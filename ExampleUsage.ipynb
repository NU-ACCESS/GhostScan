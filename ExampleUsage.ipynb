{
 "cells": [
  {
   "cell_type": "code",
   "execution_count": null,
   "metadata": {},
   "outputs": [],
   "source": [
    "from Cameras import Webcam, MachineVision\n",
    "from Projections import MainScreen\n",
    "from CaptureSessions import DeflectometryCapture, GradientShiftingCapture\n",
    "from Calibrations import RadiometricCalibration, IntrinsicCalibration\n",
    "from CalibrationsSessions import RadiometricCalibSession, IntrinsicCalibSession\n",
    "from Reconstructions import DeflectometryReconstruction, GradientShiftingReconstruction\n",
    "from Visualization import Visualization\n",
    "import Calibration\n",
    "import numpy as np\n",
    "import matplotlib.pyplot as plt\n",
    "import cv2\n",
    "import ipywidgets as widgets\n",
    "\n",
    "%load_ext autoreload\n",
    "%autoreload 2"
   ]
  },
  {
   "cell_type": "markdown",
   "metadata": {},
   "source": [
    "# Set up camera\n",
    "Set up a camera from the pre-implemented classes or implement your own by creating a new camera class inherenting from the camera base class."
   ]
  },
  {
   "cell_type": "markdown",
   "metadata": {},
   "source": [
    "Try out laptop webcam:"
   ]
  },
  {
   "cell_type": "code",
   "execution_count": null,
   "metadata": {},
   "outputs": [],
   "source": [
    "# Internal Webcam\n",
    "cam = Webcam.Internal()"
   ]
  },
  {
   "cell_type": "markdown",
   "metadata": {},
   "source": [
    "Preview camera stream (Press enter to end preview): "
   ]
  },
  {
   "cell_type": "code",
   "execution_count": null,
   "metadata": {},
   "outputs": [],
   "source": [
    "cam.viewCameraStreamJupyter()"
   ]
  },
  {
   "cell_type": "markdown",
   "metadata": {},
   "source": [
    "Set resolution:"
   ]
  },
  {
   "cell_type": "code",
   "execution_count": null,
   "metadata": {},
   "outputs": [],
   "source": [
    "print(cam.getResolution())"
   ]
  },
  {
   "cell_type": "code",
   "execution_count": null,
   "metadata": {},
   "outputs": [],
   "source": [
    "cam.setResolution((640, 480))"
   ]
  },
  {
   "cell_type": "code",
   "execution_count": null,
   "metadata": {},
   "outputs": [],
   "source": [
    "frame = cam.getImage(saveImage=False, saveNumpy=False)\n",
    "print(frame.shape)"
   ]
  },
  {
   "cell_type": "code",
   "execution_count": null,
   "metadata": {},
   "outputs": [],
   "source": [
    "cam.viewCameraStreamJupyter()"
   ]
  },
  {
   "cell_type": "code",
   "execution_count": null,
   "metadata": {},
   "outputs": [],
   "source": [
    "cam.quit_and_close()"
   ]
  },
  {
   "cell_type": "markdown",
   "metadata": {},
   "source": [
    "Try out USB webcam:"
   ]
  },
  {
   "cell_type": "code",
   "execution_count": null,
   "metadata": {},
   "outputs": [],
   "source": [
    "# External Webcam\n",
    "cam = Webcam.External()"
   ]
  },
  {
   "cell_type": "code",
   "execution_count": null,
   "metadata": {},
   "outputs": [],
   "source": [
    "cam.viewCameraStreamJupyter()"
   ]
  },
  {
   "cell_type": "code",
   "execution_count": null,
   "metadata": {},
   "outputs": [],
   "source": [
    "cam.quit_and_close()"
   ]
  },
  {
   "cell_type": "markdown",
   "metadata": {},
   "source": [
    "Try out Basler Machine Vision:"
   ]
  },
  {
   "cell_type": "code",
   "execution_count": null,
   "metadata": {},
   "outputs": [],
   "source": [
    "# Basler Machine Vision\n",
    "cam = MachineVision.Basler()"
   ]
  },
  {
   "cell_type": "code",
   "execution_count": null,
   "metadata": {},
   "outputs": [],
   "source": [
    "cam.viewCameraStreamJupyter()"
   ]
  },
  {
   "cell_type": "markdown",
   "metadata": {},
   "source": [
    "Set exposure:\n",
    "Adjust the exposure time of the camera to your preference. Exposure time is defined in micro seconds."
   ]
  },
  {
   "cell_type": "code",
   "execution_count": null,
   "metadata": {},
   "outputs": [],
   "source": [
    "# Set exposure and gain if desire to adjust\n",
    "#exposure = w.value\n",
    "exposure = 50000\n",
    "cam.setExposure(exposure)\n",
    "# cam.setAutoGain()"
   ]
  },
  {
   "cell_type": "code",
   "execution_count": null,
   "metadata": {},
   "outputs": [],
   "source": [
    "cam.viewCameraStreamJupyter()"
   ]
  },
  {
   "cell_type": "code",
   "execution_count": null,
   "metadata": {},
   "outputs": [],
   "source": [
    "cam.quit_and_close()"
   ]
  },
  {
   "cell_type": "markdown",
   "metadata": {},
   "source": [
    "# Set up projector\n",
    "Set up a projector from the pre-implemented classes or implement your own by creating a new projector class inherenting from the projector base class. The default projector is set-up as the main screen of your compuputer. Adjust your main screen in your computer settings if you want to use an external monitor or a projector.\n",
    "- Macintosh: https://support.apple.com/en-us/HT202351\n",
    "- Windows: https://support.microsoft.com/en-us/windows/how-to-use-multiple-monitors-in-windows-10-329c6962-5a4d-b481-7baa-bec9671f728a"
   ]
  },
  {
   "cell_type": "code",
   "execution_count": null,
   "metadata": {},
   "outputs": [],
   "source": [
    "# Set-up your projector\n",
    "projection = MainScreen.Screen()"
   ]
  },
  {
   "cell_type": "markdown",
   "metadata": {},
   "source": [
    "# Intrinsic Calibration"
   ]
  },
  {
   "cell_type": "markdown",
   "metadata": {},
   "source": [
    "Initialize with default DINA4 ChArUco Boarda:\n",
    "- Visit: https://calib.io/pages/camera-calibration-pattern-generator\n",
    "- Select: Board width: 279 mm  Board height: 215 mm - Rows: 8 - Columns: 11 - Marker width: 24 mm - Circle: 4 mm \n",
    "- Create and print: calib.io_charuco_279x215_8x11_24_DICT_4X4.pdf"
   ]
  },
  {
   "cell_type": "code",
   "execution_count": null,
   "metadata": {},
   "outputs": [],
   "source": [
    "# Set up the calibration object\n",
    "# Default parameters are for the aforementioned and printed ChArUco board\n",
    "intr_calib = IntrinsicCalibration.IntrinsicCalibration()"
   ]
  },
  {
   "cell_type": "markdown",
   "metadata": {},
   "source": [
    "- Initialize a capture session that will open a video stream and take an image after pressing the return key. After video stream closes, takes an image and opens again for you to alternate the viewing perspective (translation & rotation), while having the board visible at all times.\n",
    "- <span style='color:Red'> To stop the current stream and take an image press return key. OpenCV does not support clicking on X to close the window.  </span>"
   ]
  },
  {
   "cell_type": "code",
   "execution_count": null,
   "metadata": {},
   "outputs": [],
   "source": [
    "# Set up the calibration session by passing on the camera and the calibration object\n",
    "intr_calib_session = IntrinsicCalibSession.IntrinsicCalibSession(cam, intr_calib)"
   ]
  },
  {
   "cell_type": "code",
   "execution_count": null,
   "metadata": {},
   "outputs": [],
   "source": [
    "# Capture images for calibration\n",
    "intr_calib_session.capture()"
   ]
  },
  {
   "cell_type": "code",
   "execution_count": null,
   "metadata": {},
   "outputs": [],
   "source": [
    "# Compute calibration and save results in CalibrationNumpyData/intrinsic_calibration.npz\n",
    "# Saved are ret: Rep Error, mtx:Camera Matrix, dist: Distortion Coefficients, rvecs: Rotation vectors, tvecs: Translation vectors\n",
    "intr_calib_session.calibrate()"
   ]
  },
  {
   "cell_type": "code",
   "execution_count": null,
   "metadata": {},
   "outputs": [],
   "source": [
    "intr_calib.load_calibration_data()"
   ]
  },
  {
   "cell_type": "markdown",
   "metadata": {},
   "source": [
    "# Radiometric Calibration"
   ]
  },
  {
   "cell_type": "markdown",
   "metadata": {},
   "source": [
    "Opposed to intrinsic and geometric calibration - radiometric calibration does not depend on the use of a calibration object. Instead radiometric calibration tries to find the camera specific response function by taking a set of images of the same scene captured under different exposures into account. Just a brief summary about setting the camera exposure:\n",
    "- High exposure will capture the scene radiance for a longer amount of time -> good for dark image setting -> bad for motion\n",
    "- Low exposure will capture the scene radiance for a shorter amount of time -> good for bright image setting -> good for motion\n",
    "\n",
    "\n"
   ]
  },
  {
   "cell_type": "markdown",
   "metadata": {},
   "source": [
    "Therefore if we will change the exposure time of the camera, we also have to make sure that we acquire images under a setting which allows us to observe information at different exposures. This is called high dynamic range and it is the motivation behind HDR imaging. So when do we need HDR? Correct, when there is bright parts of the image as well as dark parts. A simple example of this would be to look outside from a corridor in a building, the parts of the image in the building will be in a much darker setting than outside. With this in mind wisely choose a scene that represents a high dynamic range to acquire a good fit for the camera response.\n",
    "\n",
    "\n"
   ]
  },
  {
   "cell_type": "code",
   "execution_count": null,
   "metadata": {},
   "outputs": [],
   "source": [
    "# Set up the calibration object\n",
    "radio_calib = RadiometricCalibration.RadiometricCalibration(cam.getResolution())"
   ]
  },
  {
   "cell_type": "code",
   "execution_count": null,
   "metadata": {},
   "outputs": [],
   "source": [
    "# Set up the calibration session by passing on the camera and the calibration object\n",
    "# To set your own exposures please pass them to the RadiometricCalibSession when creating\n",
    "radio_calib_session = RadiometricCalibSession.RadiometricCalibSession(cam, radio_calib)"
   ]
  },
  {
   "cell_type": "code",
   "execution_count": null,
   "metadata": {},
   "outputs": [],
   "source": [
    "# Capture images at different exposures\n",
    "radio_calib_session.capture()"
   ]
  },
  {
   "cell_type": "code",
   "execution_count": null,
   "metadata": {},
   "outputs": [],
   "source": [
    "# Calibrate for camera response function (g function)\n",
    "g, g_n = radio_calib_session.calibrate_HDR(smoothness=500)"
   ]
  },
  {
   "cell_type": "code",
   "execution_count": null,
   "metadata": {},
   "outputs": [],
   "source": [
    "radio_calib.load_calibration_data()"
   ]
  },
  {
   "cell_type": "code",
   "execution_count": null,
   "metadata": {},
   "outputs": [],
   "source": [
    "radio_calib.plotCurve('Grayscale')"
   ]
  },
  {
   "cell_type": "markdown",
   "metadata": {},
   "source": [
    "# Gradient Illumination Capture and Reconstruction"
   ]
  },
  {
   "cell_type": "markdown",
   "metadata": {},
   "source": [
    "## Set up reconstruction and capture method\n",
    "Set up the reconstruction/image processing object"
   ]
  },
  {
   "cell_type": "code",
   "execution_count": null,
   "metadata": {},
   "outputs": [],
   "source": [
    "# Number of patterns to display in each direction e.g npg=2 -> 2 x X Pattern & 2 x Y Pattern\n",
    "nph = 2\n",
    "# Set up image processing/reconstruction\n",
    "image_processing = GradientShiftingReconstruction.GradientShiftingReconstruction(n=nph)\n",
    "#image_processing = DeflectometryReconstruction.DeflectometryReconstruction(nph=nph)"
   ]
  },
  {
   "cell_type": "markdown",
   "metadata": {},
   "source": [
    "Capture mode to use with camera and projector (e.g. gradients for Gradient Illumination, sinusoids for Deflectometry...)"
   ]
  },
  {
   "cell_type": "code",
   "execution_count": null,
   "metadata": {},
   "outputs": [],
   "source": [
    "# Set up your capture session\n",
    "cap = GradientShiftingCapture.GradientShiftingCapture(cam, projection, image_processing, n=nph)\n",
    "#cap = DeflectometryCapture.DeflectometryCapture(cam, projection, image_processing, nph=nph)"
   ]
  },
  {
   "cell_type": "markdown",
   "metadata": {},
   "source": [
    "Set calibration object:"
   ]
  },
  {
   "cell_type": "code",
   "execution_count": null,
   "metadata": {},
   "outputs": [],
   "source": [
    "calib = Calibration.Calibration(radio_calib=radio_calib, intr_calib=intr_calib)\n",
    "cap.calibrate(calib)"
   ]
  },
  {
   "cell_type": "markdown",
   "metadata": {},
   "source": [
    "Start the capture: project patterns and take images. Adjust RGB pattern details."
   ]
  },
  {
   "cell_type": "code",
   "execution_count": null,
   "metadata": {},
   "outputs": [],
   "source": [
    "# Capture images and adjust parts of RGB to display\n",
    "print(\"Capturing...\")\n",
    "cap.capture(red=1.0, blue=1.0, green=1.0)"
   ]
  },
  {
   "cell_type": "markdown",
   "metadata": {},
   "source": [
    "Compute normals and albedo map:"
   ]
  },
  {
   "cell_type": "code",
   "execution_count": null,
   "metadata": {},
   "outputs": [],
   "source": [
    "# Compute results\n",
    "print(\"Computing...\")\n",
    "cap.compute()"
   ]
  },
  {
   "cell_type": "markdown",
   "metadata": {},
   "source": [
    "Compute depth map, point cloud, mesh object:"
   ]
  },
  {
   "cell_type": "code",
   "execution_count": null,
   "metadata": {},
   "outputs": [],
   "source": [
    "# Compute mesh object saved in /MeshObject\n",
    "# Crop to specific reason to minimize error and computation time:\n",
    "# Tuples to crop: ((X_start, X_width), (Y_start, Y_height))\n",
    "#image_processing.computePointCloud(((650, 250), (700, 300)))"
   ]
  },
  {
   "cell_type": "markdown",
   "metadata": {},
   "source": [
    "## Visualization"
   ]
  },
  {
   "cell_type": "code",
   "execution_count": null,
   "metadata": {},
   "outputs": [],
   "source": [
    "# Visualize results by creating a visualization object passing on the image processing object\n",
    "vis = Visualization(cap.image_processing)\n",
    "#vis.showPhaseMaps()\n",
    "vis.showAlbedo()\n",
    "vis.showAllImages()\n",
    "vis.showNormals()\n",
    "#vis.showQuiverNormals(stride=30)\n",
    "#image_processing.saveTiff()"
   ]
  },
  {
   "cell_type": "code",
   "execution_count": null,
   "metadata": {},
   "outputs": [],
   "source": []
  },
  {
   "cell_type": "code",
   "execution_count": null,
   "metadata": {},
   "outputs": [],
   "source": []
  },
  {
   "cell_type": "code",
   "execution_count": null,
   "metadata": {},
   "outputs": [],
   "source": []
  }
 ],
 "metadata": {
  "kernelspec": {
   "display_name": "Python 3",
   "language": "python",
   "name": "python3"
  },
  "language_info": {
   "codemirror_mode": {
    "name": "ipython",
    "version": 3
   },
   "file_extension": ".py",
   "mimetype": "text/x-python",
   "name": "python",
   "nbconvert_exporter": "python",
   "pygments_lexer": "ipython3",
   "version": "3.8.5"
  }
 },
 "nbformat": 4,
 "nbformat_minor": 4
}
